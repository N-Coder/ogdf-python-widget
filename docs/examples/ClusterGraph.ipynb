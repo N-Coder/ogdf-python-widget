{
 "cells": [
  {
   "cell_type": "code",
   "execution_count": null,
   "id": "0c37b39c",
   "metadata": {},
   "outputs": [],
   "source": [
    "%env OGDF_BUILD_DIR=~/Bachelorarbeit/OGDF2/build-debug\n",
    "\n",
    "from ogdf_python_widget import ogdf, cppinclude, cppyy\n",
    "import ogdf_python_widget\n",
    "cppinclude(\"ogdf/layered/SugiyamaLayout.h\")\n",
    "\n",
    "G = ogdf.Graph()\n",
    "G.__python_owns__ = False\n",
    "CG = ogdf.ClusterGraph(G)\n",
    "CG.__python_owns__ = False\n",
    "\n",
    "CGA = ogdf.ClusterGraphAttributes(CG, ogdf.ClusterGraphAttributes.all)\n",
    "CGA.__python_owns__ = False\n",
    "\n",
    "ogdf.GraphIO.readGML(CGA, CG, G, cppyy.gbl.std.ifstream(\"clusterGraph.gml\"))\n",
    "\n",
    "SL = ogdf.SugiyamaLayout()\n",
    "SL.call(CGA)"
   ]
  },
  {
   "cell_type": "code",
   "execution_count": null,
   "id": "1718068e",
   "metadata": {
    "scrolled": false
   },
   "outputs": [],
   "source": [
    "from ogdf_python_widget.widget import Widget\n",
    "\n",
    "w = Widget(CGA, True)\n",
    "\n",
    "\n",
    "def clickSvg(x, y, alt, ctrl, backgroundClicked):\n",
    "    global w\n",
    "    coords = w.svgCoords_to_graphCoords(x,y)\n",
    "    print(coords)\n",
    "    if ctrl:\n",
    "        n = w.graph_attributes.constGraph().newNode()\n",
    "        w.graph_attributes.x[n] = coords['x']\n",
    "        w.graph_attributes.y[n] = coords['y']\n",
    "        w.graph_attributes.label[n] = \"N%s\" % n.index()\n",
    "        w.update_node(n, False)\n",
    "\n",
    "w.on_svg_click_callback = clickSvg\n",
    "\n",
    "def clickNode(node, alt, ctrl):\n",
    "    print(w.node_to_dict(node))\n",
    "    \n",
    "w.on_node_click_callback = clickNode\n",
    "\n",
    "\n",
    "\n",
    "\n",
    "w"
   ]
  },
  {
   "cell_type": "code",
   "execution_count": null,
   "id": "64d756cb",
   "metadata": {},
   "outputs": [],
   "source": [
    "w.node_movement_enabled = True"
   ]
  },
  {
   "cell_type": "code",
   "execution_count": null,
   "id": "a46b2f3c",
   "metadata": {},
   "outputs": [],
   "source": [
    "w.send({'code': 'deleteClusterById', 'data': '3'})"
   ]
  },
  {
   "cell_type": "code",
   "execution_count": null,
   "id": "925c2b27",
   "metadata": {},
   "outputs": [],
   "source": [
    "w.send({'code': 'addClusterById', 'data': \n",
    "        {\n",
    "   'id':'6',\n",
    "   'parentId':'5',\n",
    "   'name':'',\n",
    "   'x':86,\n",
    "   'y':354,\n",
    "   'clusterWidth':205.9999999999998,\n",
    "   'clusterHeight':177.66666666666674,\n",
    "   'strokeColor':{\n",
    "      'r':128,\n",
    "      'g':128,\n",
    "      'b':128,\n",
    "      'a':255\n",
    "   },\n",
    "   'strokeWidth':1.0,\n",
    "   'children':[\n",
    "      \n",
    "   ],\n",
    "   'nodes':[\n",
    "      '64',\n",
    "      '42',\n",
    "      '43'\n",
    "   ]\n",
    "}})"
   ]
  },
  {
   "cell_type": "code",
   "execution_count": null,
   "id": "d880750a",
   "metadata": {},
   "outputs": [],
   "source": []
  }
 ],
 "metadata": {
  "kernelspec": {
   "display_name": "Python 3 (ipykernel)",
   "language": "python",
   "name": "python3"
  },
  "language_info": {
   "codemirror_mode": {
    "name": "ipython",
    "version": 3
   },
   "file_extension": ".py",
   "mimetype": "text/x-python",
   "name": "python",
   "nbconvert_exporter": "python",
   "pygments_lexer": "ipython3",
   "version": "3.9.6"
  }
 },
 "nbformat": 4,
 "nbformat_minor": 5
}
