{
 "cells": [
  {
   "cell_type": "code",
   "execution_count": null,
   "id": "0c37b39c",
   "metadata": {},
   "outputs": [],
   "source": [
    "%env OGDF_BUILD_DIR=~/Bachelorarbeit/OGDF/build-debug\n",
    "\n",
    "from ogdf_python_widget import ogdf, cppinclude, cppyy\n",
    "from ogdf_python_widget.widget import Widget\n",
    "import ogdf_python_widget\n",
    "cppinclude(\"ogdf/layered/SugiyamaLayout.h\")\n",
    "\n",
    "G = ogdf.Graph()\n",
    "G.__python_owns__ = False\n",
    "CG = ogdf.ClusterGraph(G)\n",
    "CG.__python_owns__ = False\n",
    "\n",
    "ogdf.GraphIO.readGML(CG, G, cppyy.gbl.std.ifstream(\"clusterGraph.gml\"))\n",
    "\n",
    "CGA = ogdf.ClusterGraphAttributes(CG, ogdf.ClusterGraphAttributes.all)\n",
    "CGA.__python_owns__ = False\n",
    "\n",
    "GA = ogdf.GraphAttributes(G, ogdf.GraphAttributes.all)\n",
    "GA.__python_owns__ = False\n",
    "\n",
    "SL = ogdf.SugiyamaLayout()\n",
    "SL.call(GA)\n",
    "\n",
    "# following line breaks the kernal (I think internal C++ error) but no error message is shown\n",
    "#SL.call(CGA)"
   ]
  },
  {
   "cell_type": "code",
   "execution_count": null,
   "id": "1718068e",
   "metadata": {
    "scrolled": false
   },
   "outputs": [],
   "source": [
    "#w = Widget(GA)\n",
    "w = Widget(CGA)\n",
    "w"
   ]
  },
  {
   "cell_type": "code",
   "execution_count": null,
   "id": "64d756cb",
   "metadata": {},
   "outputs": [],
   "source": [
    "w.node_movement_enabled = True"
   ]
  },
  {
   "cell_type": "code",
   "execution_count": null,
   "id": "4cc1a813",
   "metadata": {},
   "outputs": [],
   "source": [
    "w.start_force_directed(fix_start_position=False)"
   ]
  },
  {
   "cell_type": "code",
   "execution_count": null,
   "id": "fc186efa",
   "metadata": {},
   "outputs": [],
   "source": [
    "w.stop_force_directed()"
   ]
  },
  {
   "cell_type": "code",
   "execution_count": null,
   "id": "560a322a",
   "metadata": {},
   "outputs": [],
   "source": []
  }
 ],
 "metadata": {
  "kernelspec": {
   "display_name": "Python 3 (ipykernel)",
   "language": "python",
   "name": "python3"
  },
  "language_info": {
   "codemirror_mode": {
    "name": "ipython",
    "version": 3
   },
   "file_extension": ".py",
   "mimetype": "text/x-python",
   "name": "python",
   "nbconvert_exporter": "python",
   "pygments_lexer": "ipython3",
   "version": "3.9.6"
  }
 },
 "nbformat": 4,
 "nbformat_minor": 5
}
