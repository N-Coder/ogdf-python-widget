{
 "cells": [
  {
   "cell_type": "code",
   "execution_count": null,
   "id": "6f908715",
   "metadata": {},
   "outputs": [],
   "source": [
    "%env OGDF_BUILD_DIR=~/Bachelorarbeit/OGDF/build-debug\n",
    "\n",
    "from ogdf_python_widget import ogdf, cppinclude\n",
    "from ogdf_python_widget.widget import Widget\n",
    "import ogdf_python_widget\n",
    "\n",
    "cppinclude(\"ogdf/basic/graph_generators/randomized.h\")\n",
    "cppinclude(\"ogdf/layered/SugiyamaLayout.h\")\n",
    "\n",
    "G = ogdf.Graph()\n",
    "ogdf.setSeed(1)\n",
    "ogdf.randomPlanarTriconnectedGraph(G, 20, 40)\n",
    "GA = ogdf.GraphAttributes(G, ogdf.GraphAttributes.all)\n",
    "\n",
    "for n in G.nodes:\n",
    "    GA.label[n] = \"N%s\" % n.index()\n",
    "\n",
    "SL = ogdf.SugiyamaLayout()\n",
    "SL.call(GA)\n",
    "\n",
    "w = Widget(GA)\n",
    "\n",
    "w.on_link_click_callback = lambda link, alt, ctrl: clickLink(link, alt, ctrl)\n",
    "w.on_node_click_callback = lambda node, alt, ctrl: clickNode(node, alt, ctrl)\n",
    "w.on_svg_click_callback = lambda x, y, alt, ctrl, backgroundClicked: clickSvg(x, y, alt, ctrl, backgroundClicked)\n",
    "\n",
    "movingLinkIds = []\n",
    "selectedNode = None\n",
    "\n",
    "def clickNode(node, alt, ctrl):\n",
    "    global w, selectedNode, G, GA\n",
    "    if alt:\n",
    "        #deletes node when clicking on it while holding alt key\n",
    "        G.delNode(node)\n",
    "    if ctrl:\n",
    "        #adds links when holding ctrl\n",
    "        if selectedNode == None:\n",
    "            GA.fillColor[node] = ogdf.Color(150, 231, 255)\n",
    "            w.update_node(node)\n",
    "            selectedNode = node\n",
    "        else:\n",
    "            G.newEdge(selectedNode, node)\n",
    "            GA.fillColor[selectedNode] = ogdf.Color(255, 255, 255)\n",
    "            w.update_node(selectedNode)\n",
    "            selectedNode = None\n",
    "    \n",
    "def clickLink(link, alt, ctrl):\n",
    "    global w, movingLinkIds, G\n",
    "    if alt:\n",
    "        #deletes link when clicking on it while holding alt key\n",
    "        G.delEdge(link)\n",
    "    if ctrl:\n",
    "        #ctrl toggles link movement\n",
    "        if link.index() in movingLinkIds:\n",
    "            w.remove_bend_mover_for_id(link.index())\n",
    "            movingLinkIds.remove(link.index())\n",
    "        else:\n",
    "            w.move_link(link)\n",
    "            movingLinkIds.append(link.index())\n",
    "        \n",
    "def clickSvg(x, y, alt, ctrl, backgroundClicked):\n",
    "    global w, G, GA\n",
    "    if backgroundClicked and ctrl:\n",
    "        #adds node when clicking svg and holding ctrl\n",
    "        coords = w.viewcoords_to_svgcoords(x,y)\n",
    "        n = G.newNode()\n",
    "        GA.x[n] = coords['x']\n",
    "        GA.y[n] = coords['y']\n",
    "        GA.label[n] = \"N%s\" % n.index()\n",
    "        w.update_node(n)\n",
    "\n",
    "\n",
    "import ipywidgets as widgets\n",
    "from ipywidgets import HBox, VBox\n",
    "\n",
    "##################################################################################\n",
    "\n",
    "addNodeMoveToggle = widgets.Checkbox(\n",
    "    value=False,\n",
    "    description='move Nodes',\n",
    "    disabled=False,\n",
    "    indent=False\n",
    ")\n",
    "\n",
    "def on_addNodeMoveToggle(change):\n",
    "    global w, addNodeMoveToggle\n",
    "    w.enable_node_movement(addNodeMoveToggle.value)\n",
    "addNodeMoveToggle.observe(on_addNodeMoveToggle, 'value')\n",
    "\n",
    "################################################################################## \n",
    "\n",
    "hbox = HBox([addNodeMoveToggle])\n",
    "vbox = VBox([hbox, w])\n",
    "\n",
    "vbox"
   ]
  },
  {
   "cell_type": "code",
   "execution_count": null,
   "id": "0b3f5943",
   "metadata": {},
   "outputs": [],
   "source": [
    "w.click_thickness = 8"
   ]
  },
  {
   "cell_type": "code",
   "execution_count": null,
   "id": "277effdb",
   "metadata": {
    "scrolled": true
   },
   "outputs": [],
   "source": [
    "n = G.newNode()\n",
    "GA.label[n] = \"N%s\" % n.index()\n",
    "w.update_node(n)\n",
    "e = G.newEdge(G.nodes[2], n)\n",
    "e2 = G.newEdge(G.nodes[1], n)"
   ]
  },
  {
   "cell_type": "code",
   "execution_count": null,
   "id": "afa9776f",
   "metadata": {},
   "outputs": [],
   "source": [
    "GA.x[n] = -1342\n",
    "GA.y[n] = -1311\n",
    "for edge in n.adjEntries:\n",
    "    w.update_link(edge.theEdge())\n",
    "w.update_node(n)"
   ]
  },
  {
   "cell_type": "code",
   "execution_count": null,
   "id": "b088cb81",
   "metadata": {},
   "outputs": [],
   "source": [
    "G.delNode(G.nodes.begin().succ())"
   ]
  },
  {
   "cell_type": "code",
   "execution_count": null,
   "id": "0df6f822",
   "metadata": {},
   "outputs": [],
   "source": [
    "w.send({'code': 'test'})\n",
    "w.zoom = 1\n",
    "w.x_pos = 0\n",
    "w.y_pos = 0"
   ]
  },
  {
   "cell_type": "code",
   "execution_count": null,
   "id": "f8163cc8",
   "metadata": {},
   "outputs": [],
   "source": [
    "w.enable_bend_movement(True)\n",
    "w.enable_node_movement(True)"
   ]
  },
  {
   "cell_type": "code",
   "execution_count": null,
   "id": "4d42b714",
   "metadata": {},
   "outputs": [],
   "source": [
    "w.export_graph()"
   ]
  },
  {
   "cell_type": "code",
   "execution_count": null,
   "id": "8e3cd23d",
   "metadata": {},
   "outputs": [],
   "source": [
    "w.update_node(n)"
   ]
  }
 ],
 "metadata": {
  "kernelspec": {
   "display_name": "Python 3 (ipykernel)",
   "language": "python",
   "name": "python3"
  },
  "language_info": {
   "codemirror_mode": {
    "name": "ipython",
    "version": 3
   },
   "file_extension": ".py",
   "mimetype": "text/x-python",
   "name": "python",
   "nbconvert_exporter": "python",
   "pygments_lexer": "ipython3",
   "version": "3.9.6"
  }
 },
 "nbformat": 4,
 "nbformat_minor": 5
}
