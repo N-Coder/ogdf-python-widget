{
 "cells": [
  {
   "cell_type": "code",
   "execution_count": null,
   "id": "a2a89be7",
   "metadata": {},
   "outputs": [],
   "source": [
    "%env OGDF_BUILD_DIR=~/Bachelorarbeit/OGDF/build-debug\n",
    "\n",
    "from ogdf_python_widget import ogdf, cppinclude\n",
    "from ogdf_python_widget.widget import Widget\n",
    "import ogdf_python_widget\n",
    "\n",
    "cppinclude(\"ogdf/basic/graph_generators/randomized.h\")\n",
    "cppinclude(\"ogdf/layered/SugiyamaLayout.h\")\n",
    "\n",
    "cppinclude(\"ogdf/planarity/PlanarizationLayout.h\")\n",
    "cppinclude(\"ogdf/planarity/SubgraphPlanarizer.h\")\n",
    "cppinclude(\"ogdf/planarity/PlanarSubgraphFast.h\")\n",
    "cppinclude(\"ogdf/orthogonal/OrthoLayout.h\")\n",
    "cppinclude(\"ogdf/planarity/VariableEmbeddingInserter.h\")\n",
    "cppinclude(\"ogdf/planarity/EmbedderMinDepthMaxFaceLayers.h\")\n",
    "####################################################################################\n",
    "\n",
    "G = ogdf.Graph()\n",
    "ogdf.setSeed(1)\n",
    "ogdf.randomPlanarTriconnectedGraph(G, 20, 40)\n",
    "\n",
    "GA = ogdf.GraphAttributes(G, ogdf.GraphAttributes.all)\n",
    "\n",
    "for n in G.nodes:\n",
    "    GA.label[n] = \"N%s\" % n.index()\n",
    "\n",
    "SL = ogdf.SugiyamaLayout()\n",
    "SL.call(GA)\n",
    "\n",
    "####################################################################################\n",
    "\n",
    "GA2 = ogdf.GraphAttributes(G, ogdf.GraphAttributes.all)\n",
    "\n",
    "for n in G.nodes:\n",
    "    GA2.label[n] = \"N%s\" % n.index()\n",
    "    \n",
    "\n",
    "pl = ogdf.PlanarizationLayout()\n",
    "\n",
    "crossMin = ogdf.SubgraphPlanarizer()\n",
    "\n",
    "ps = ogdf.PlanarSubgraphFast[int]()\n",
    "ps.__python_owns__ = False\n",
    "ps.runs(100)\n",
    "ves = ogdf.VariableEmbeddingInserter()\n",
    "ves.__python_owns__ = False\n",
    "ves.removeReinsert(ogdf.RemoveReinsertType.All)\n",
    "\n",
    "crossMin.setSubgraph(ps)\n",
    "crossMin.setInserter(ves)\n",
    "\n",
    "emb = ogdf.EmbedderMinDepthMaxFaceLayers()\n",
    "emb.__python_owns__ = False\n",
    "pl.setEmbedder(emb)\n",
    "\n",
    "ol = ogdf.OrthoLayout()\n",
    "ol.__python_owns__ = False\n",
    "ol.separation(20.0)\n",
    "ol.cOverhang(0.4)\n",
    "pl.setPlanarLayouter(ol)\n",
    "\n",
    "pl.call(GA2)\n",
    "\n",
    "####################################################################################\n",
    "\n",
    "G2 = ogdf.Graph()\n",
    "ogdf.setSeed(2)\n",
    "ogdf.randomPlanarTriconnectedGraph(G2, 20, 40)\n",
    "\n",
    "G2.newEdge(G2.nodes[0],G2.nodes[0])\n",
    "\n",
    "GA3 = ogdf.GraphAttributes(G2, ogdf.GraphAttributes.all)\n",
    "for n in G2.nodes:\n",
    "    GA3.label[n] = \"N%s\" % n.index()\n",
    "    GA3.shape[n] = ogdf.Shape.Ellipse\n",
    "    \n",
    "####################################################################################\n",
    "\n",
    "\n",
    "w = Widget(GA, True)\n",
    "\n",
    "w"
   ]
  },
  {
   "cell_type": "code",
   "execution_count": null,
   "id": "d27affa6",
   "metadata": {},
   "outputs": [],
   "source": [
    "w.update_graph_attributes(GA2)"
   ]
  },
  {
   "cell_type": "code",
   "execution_count": null,
   "id": "8eca08e6",
   "metadata": {},
   "outputs": [],
   "source": [
    "w.update_graph_attributes(GA)"
   ]
  },
  {
   "cell_type": "code",
   "execution_count": null,
   "id": "8682401a",
   "metadata": {},
   "outputs": [],
   "source": [
    "w.start_force_directed(fix_start_position=False)"
   ]
  },
  {
   "cell_type": "code",
   "execution_count": null,
   "id": "66d9567e",
   "metadata": {},
   "outputs": [],
   "source": [
    "w.stop_force_directed()"
   ]
  },
  {
   "cell_type": "code",
   "execution_count": null,
   "id": "0b5b8408",
   "metadata": {},
   "outputs": [],
   "source": [
    "w.set_graph_attributes(GA3)"
   ]
  },
  {
   "cell_type": "code",
   "execution_count": null,
   "id": "608d3687",
   "metadata": {},
   "outputs": [],
   "source": [
    "w.set_graph_attributes(GA2)"
   ]
  }
 ],
 "metadata": {
  "kernelspec": {
   "display_name": "Python 3 (ipykernel)",
   "language": "python",
   "name": "python3"
  },
  "language_info": {
   "codemirror_mode": {
    "name": "ipython",
    "version": 3
   },
   "file_extension": ".py",
   "mimetype": "text/x-python",
   "name": "python",
   "nbconvert_exporter": "python",
   "pygments_lexer": "ipython3",
   "version": "3.9.6"
  }
 },
 "nbformat": 4,
 "nbformat_minor": 5
}
