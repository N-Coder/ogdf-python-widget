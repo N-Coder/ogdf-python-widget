{
 "cells": [
  {
   "cell_type": "code",
   "execution_count": 7,
   "id": "fe4e4785",
   "metadata": {
    "scrolled": false
   },
   "outputs": [],
   "source": [
    "from ogdf_python import ogdf, cppinclude, cppyy\n",
    "from ogdf_python_widget.widget import Widget\n",
    "import ogdf_python_widget\n",
    "\n",
    "cppinclude(\"ogdf/basic/graph_generators/randomized.h\")\n",
    "cppinclude(\"ogdf/decomposition/DynamicSPQRTree.h\")\n",
    "\n",
    "####################################################################################\n",
    "\n",
    "G = ogdf.Graph()\n",
    "#ogdf.setSeed(1)\n",
    "#ogdf.randomPlanarTriconnectedGraph(G, 10, 20)\n",
    "\n",
    "\n",
    "####################################################################################\n",
    "GA = ogdf.GraphAttributes(G, ogdf.GraphAttributes.all)\n",
    "\n",
    "ogdf.GraphIO.readGML(GA, G, cppyy.gbl.std.ifstream(\"spqrExample.gml\"))\n",
    "\n",
    "for n in G.nodes:\n",
    "    GA.label[n] = \"N%s\" % n.index()\n",
    "    GA.idNode[n] = n.index()\n",
    "    \n",
    "w = Widget(GA, True)\n",
    "\n",
    "\n",
    "#G.newEdge(w.get_node_from_id('7'), w.get_node_from_id('3'))\n",
    "\n",
    "\n",
    "SPQR = ogdf.DynamicSPQRTree(G)\n",
    "\n",
    "w2 = Widget(SPQR, True)"
   ]
  },
  {
   "cell_type": "code",
   "execution_count": 8,
   "id": "cf5b5af4",
   "metadata": {
    "scrolled": false
   },
   "outputs": [
    {
     "data": {
      "application/vnd.jupyter.widget-view+json": {
       "model_id": "52b7928db80049d68fd7e759f2d7d32a",
       "version_major": 2,
       "version_minor": 0
      },
      "text/plain": [
       "Widget()"
      ]
     },
     "metadata": {},
     "output_type": "display_data"
    },
    {
     "name": "stdout",
     "output_type": "stream",
     "text": [
      "e1\n",
      "e0\n",
      "e11\n",
      "e8\n",
      "e1\n",
      "e3\n",
      "e2\n",
      "e2\n",
      "{'code': 'widgetReady'}\n"
     ]
    }
   ],
   "source": [
    "w2"
   ]
  },
  {
   "cell_type": "code",
   "execution_count": 9,
   "id": "096dd80b",
   "metadata": {},
   "outputs": [],
   "source": [
    "w2.node_movement_enabled = True\n",
    "w2.start_force_directed()"
   ]
  },
  {
   "cell_type": "code",
   "execution_count": 10,
   "id": "ab47be05",
   "metadata": {},
   "outputs": [],
   "source": [
    "w2.stop_force_directed()"
   ]
  },
  {
   "cell_type": "code",
   "execution_count": null,
   "id": "d1d8214d",
   "metadata": {},
   "outputs": [],
   "source": [
    "GA"
   ]
  }
 ],
 "metadata": {
  "kernelspec": {
   "display_name": "Python 3 (ipykernel)",
   "language": "python",
   "name": "python3"
  },
  "language_info": {
   "codemirror_mode": {
    "name": "ipython",
    "version": 3
   },
   "file_extension": ".py",
   "mimetype": "text/x-python",
   "name": "python",
   "nbconvert_exporter": "python",
   "pygments_lexer": "ipython3",
   "version": "3.9.6"
  }
 },
 "nbformat": 4,
 "nbformat_minor": 5
}
