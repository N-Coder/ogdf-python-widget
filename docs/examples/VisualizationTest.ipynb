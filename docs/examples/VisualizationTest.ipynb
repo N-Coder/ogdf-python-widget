{
 "cells": [
  {
   "cell_type": "code",
   "execution_count": 4,
   "id": "7f85cf01",
   "metadata": {
    "scrolled": true
   },
   "outputs": [
    {
     "data": {
      "application/javascript": [
       "require.config({\n",
       "    paths: {\n",
       "        d3: \"https://d3js.org/d3.v4.min\"\n",
       "     }\n",
       "});\n",
       "\n",
       "require([\"d3\"], function(d3) {\n",
       "    window.d3 = d3;\n",
       "});\n"
      ],
      "text/plain": [
       "<IPython.core.display.Javascript object>"
      ]
     },
     "metadata": {},
     "output_type": "display_data"
    }
   ],
   "source": [
    "%%javascript\n",
    "require.config({\n",
    "    paths: {\n",
    "        d3: \"https://d3js.org/d3.v4.min\"\n",
    "     }\n",
    "});\n",
    "\n",
    "require([\"d3\"], function(d3) {\n",
    "    window.d3 = d3;\n",
    "});"
   ]
  },
  {
   "cell_type": "code",
   "execution_count": 7,
   "id": "7528e762",
   "metadata": {
    "scrolled": false
   },
   "outputs": [
    {
     "name": "stdout",
     "output_type": "stream",
     "text": [
      "env: OGDF_BUILD_DIR=~/Bachelorarbeit/OGDF/build-debug\n"
     ]
    },
    {
     "data": {
      "text/html": [
       "<!DOCTYPE html>\n",
       "<meta charset=\"utf-8\">\n",
       "<style>\n",
       "\n",
       "    .links line {\n",
       "        stroke: #999;\n",
       "        stroke-opacity: 0.6;\n",
       "    }\n",
       "\n",
       "    .nodes circle {\n",
       "        stroke: black;\n",
       "        stroke-width: 0px;\n",
       "    }\n",
       "\n",
       "</style>\n",
       "<svg width=\"800\" height=\"500\"></svg>\n",
       "<script src=\"https://d3js.org/d3.v4.min.js\"></script>\n",
       "<script>\n",
       "\n",
       "    //create somewhere to put the force directed graph\n",
       "    var svg = d3.select(\"svg\"),\n",
       "        width = +svg.attr(\"width\"),\n",
       "        height = +svg.attr(\"height\");\n",
       "\n",
       "    var radius = 15;\n",
       "\n",
       "    //construct arrow\n",
       "    svg.append(\"svg:defs\").selectAll(\"marker\")\n",
       "        .data([\"end\"])\n",
       "        .enter().append(\"svg:marker\")\n",
       "        .attr(\"id\", String)\n",
       "        .attr(\"viewBox\", \"0 -5 10 10\")\n",
       "        .attr(\"refX\", 28)\n",
       "        .attr(\"refY\", 0)\n",
       "        .attr(\"markerWidth\", 8)\n",
       "        .attr(\"markerHeight\", 8)\n",
       "        .attr(\"orient\", \"auto\")\n",
       "        .attr(\"fill\", \"green\")\n",
       "        .append(\"svg:path\")\n",
       "        .attr(\"d\", \"M0,-5L10,0L0,5\");\n",
       "\n",
       "    var nodes_data = [{\"id\": \"0\", \"name\": \"0\", \"x\": 250, \"y\": 40}, {\"id\": \"1\", \"name\": \"1\", \"x\": 220, \"y\": 90}, {\"id\": \"2\", \"name\": \"2\", \"x\": 200, \"y\": 575}, {\"id\": \"3\", \"name\": \"3\", \"x\": 150, \"y\": 732}, {\"id\": \"7\", \"name\": \"7\", \"x\": 160, \"y\": 515}, {\"id\": \"8\", \"name\": \"8\", \"x\": 240, \"y\": 465}, {\"id\": \"9\", \"name\": \"9\", \"x\": 40, \"y\": 575}, {\"id\": \"10\", \"name\": \"10\", \"x\": 150, \"y\": 782}, {\"id\": \"11\", \"name\": \"11\", \"x\": 220, \"y\": 362}, {\"id\": \"12\", \"name\": \"12\", \"x\": 380, \"y\": 262}, {\"id\": \"13\", \"name\": \"13\", \"x\": 240, \"y\": 942}, {\"id\": \"14\", \"name\": \"14\", \"x\": 80, \"y\": 782}, {\"id\": \"15\", \"name\": \"15\", \"x\": 290, \"y\": 262}, {\"id\": \"16\", \"name\": \"16\", \"x\": 180, \"y\": 140}, {\"id\": \"17\", \"name\": \"17\", \"x\": 335, \"y\": 212}, {\"id\": \"18\", \"name\": \"18\", \"x\": 260, \"y\": 312}, {\"id\": \"19\", \"name\": \"19\", \"x\": 260, \"y\": 415}, {\"id\": \"20\", \"name\": \"20\", \"x\": 280, \"y\": 625}, {\"id\": \"21\", \"name\": \"21\", \"x\": 240, \"y\": 855}, {\"id\": \"22\", \"name\": \"22\", \"x\": 180, \"y\": 625}]\n",
       "    var links_data = [{\"id\": \"0_1\", \"sx\": 250, \"sy\": 40, \"tx\": 220, \"ty\": 90, \"arrow\": true}, {\"id\": \"12_20\", \"sx\": 380, \"sy\": 262, \"tx\": 360, \"ty\": 312}, {\"id\": \"12_20\", \"sx\": 360, \"sy\": 312, \"tx\": 360, \"ty\": 575}, {\"id\": \"12_20\", \"sx\": 360, \"sy\": 575, \"tx\": 280, \"ty\": 625, \"arrow\": true}, {\"id\": \"12_21\", \"sx\": 380, \"sy\": 262, \"tx\": 400, \"ty\": 312}, {\"id\": \"12_21\", \"sx\": 400, \"sy\": 312, \"tx\": 400, \"ty\": 782}, {\"id\": \"12_21\", \"sx\": 400, \"sy\": 782, \"tx\": 240, \"ty\": 855, \"arrow\": true}, {\"id\": \"11_8\", \"sx\": 220, \"sy\": 362, \"tx\": 220, \"ty\": 415}, {\"id\": \"11_8\", \"sx\": 220, \"sy\": 415, \"tx\": 240, \"ty\": 465, \"arrow\": true}, {\"id\": \"16_9\", \"sx\": 180, \"sy\": 140, \"tx\": 40, \"ty\": 212}, {\"id\": \"16_9\", \"sx\": 40, \"sy\": 212, \"tx\": 40, \"ty\": 515}, {\"id\": \"16_9\", \"sx\": 40, \"sy\": 515, \"tx\": 40, \"ty\": 575, \"arrow\": true}, {\"id\": \"2_22\", \"sx\": 200, \"sy\": 575, \"tx\": 180, \"ty\": 625, \"arrow\": true}, {\"id\": \"14_7\", \"sx\": 80, \"sy\": 782, \"tx\": 80, \"ty\": 732}, {\"id\": \"14_7\", \"sx\": 80, \"sy\": 732, \"tx\": 80, \"ty\": 575}, {\"id\": \"14_7\", \"sx\": 80, \"sy\": 575, \"tx\": 160, \"ty\": 515, \"arrow\": true}, {\"id\": \"7_2\", \"sx\": 160, \"sy\": 515, \"tx\": 200, \"ty\": 575, \"arrow\": true}, {\"id\": \"2_20\", \"sx\": 200, \"sy\": 575, \"tx\": 280, \"ty\": 625, \"arrow\": true}, {\"id\": \"7_9\", \"sx\": 160, \"sy\": 515, \"tx\": 40, \"ty\": 575, \"arrow\": true}, {\"id\": \"9_14\", \"sx\": 40, \"sy\": 575, \"tx\": 40, \"ty\": 625}, {\"id\": \"9_14\", \"sx\": 40, \"sy\": 625, \"tx\": 40, \"ty\": 732}, {\"id\": \"9_14\", \"sx\": 40, \"sy\": 732, \"tx\": 80, \"ty\": 782, \"arrow\": true}, {\"id\": \"3_10\", \"sx\": 150, \"sy\": 732, \"tx\": 150, \"ty\": 782, \"arrow\": true}, {\"id\": \"16_11\", \"sx\": 180, \"sy\": 140, \"tx\": 200, \"ty\": 212}, {\"id\": \"16_11\", \"sx\": 200, \"sy\": 212, \"tx\": 200, \"ty\": 312}, {\"id\": \"16_11\", \"sx\": 200, \"sy\": 312, \"tx\": 220, \"ty\": 362, \"arrow\": true}, {\"id\": \"19_18\", \"sx\": 260, \"sy\": 415, \"tx\": 280, \"ty\": 362}, {\"id\": \"19_18\", \"sx\": 280, \"sy\": 362, \"tx\": 260, \"ty\": 312, \"arrow\": true}, {\"id\": \"17_12\", \"sx\": 335, \"sy\": 212, \"tx\": 380, \"ty\": 262, \"arrow\": true}, {\"id\": \"10_13\", \"sx\": 150, \"sy\": 782, \"tx\": 150, \"ty\": 855}, {\"id\": \"10_13\", \"sx\": 150, \"sy\": 855, \"tx\": 240, \"ty\": 942, \"arrow\": true}, {\"id\": \"22_3\", \"sx\": 180, \"sy\": 625, \"tx\": 150, \"ty\": 732, \"arrow\": true}, {\"id\": \"3_14\", \"sx\": 150, \"sy\": 732, \"tx\": 80, \"ty\": 782, \"arrow\": true}, {\"id\": \"0_15\", \"sx\": 250, \"sy\": 40, \"tx\": 290, \"ty\": 90}, {\"id\": \"0_15\", \"sx\": 290, \"sy\": 90, \"tx\": 290, \"ty\": 212}, {\"id\": \"0_15\", \"sx\": 290, \"sy\": 212, \"tx\": 290, \"ty\": 262, \"arrow\": true}, {\"id\": \"18_1\", \"sx\": 260, \"sy\": 312, \"tx\": 240, \"ty\": 262}, {\"id\": \"18_1\", \"sx\": 240, \"sy\": 262, \"tx\": 240, \"ty\": 140}, {\"id\": \"18_1\", \"sx\": 240, \"sy\": 140, \"tx\": 220, \"ty\": 90, \"arrow\": true}, {\"id\": \"1_16\", \"sx\": 220, \"sy\": 90, \"tx\": 180, \"ty\": 140, \"arrow\": true}, {\"id\": \"0_17\", \"sx\": 250, \"sy\": 40, \"tx\": 335, \"ty\": 90}, {\"id\": \"0_17\", \"sx\": 335, \"sy\": 90, \"tx\": 335, \"ty\": 140}, {\"id\": \"0_17\", \"sx\": 335, \"sy\": 140, \"tx\": 335, \"ty\": 212, \"arrow\": true}, {\"id\": \"17_15\", \"sx\": 335, \"sy\": 212, \"tx\": 290, \"ty\": 262, \"arrow\": true}, {\"id\": \"15_18\", \"sx\": 290, \"sy\": 262, \"tx\": 260, \"ty\": 312, \"arrow\": true}, {\"id\": \"11_19\", \"sx\": 220, \"sy\": 362, \"tx\": 260, \"ty\": 415, \"arrow\": true}, {\"id\": \"19_8\", \"sx\": 260, \"sy\": 415, \"tx\": 240, \"ty\": 465, \"arrow\": true}, {\"id\": \"8_20\", \"sx\": 240, \"sy\": 465, \"tx\": 240, \"ty\": 515}, {\"id\": \"8_20\", \"sx\": 240, \"sy\": 515, \"tx\": 240, \"ty\": 575}, {\"id\": \"8_20\", \"sx\": 240, \"sy\": 575, \"tx\": 280, \"ty\": 625, \"arrow\": true}, {\"id\": \"10_21\", \"sx\": 150, \"sy\": 782, \"tx\": 240, \"ty\": 855, \"arrow\": true}, {\"id\": \"21_13\", \"sx\": 240, \"sy\": 855, \"tx\": 240, \"ty\": 942, \"arrow\": true}, {\"id\": \"13_22\", \"sx\": 240, \"sy\": 942, \"tx\": 440, \"ty\": 855}, {\"id\": \"13_22\", \"sx\": 440, \"sy\": 855, \"tx\": 440, \"ty\": 732}, {\"id\": \"13_22\", \"sx\": 440, \"sy\": 732, \"tx\": 180, \"ty\": 625, \"arrow\": true}, {\"id\": \"11_7\", \"sx\": 220, \"sy\": 362, \"tx\": 120, \"ty\": 415}, {\"id\": \"11_7\", \"sx\": 120, \"sy\": 415, \"tx\": 120, \"ty\": 465}, {\"id\": \"11_7\", \"sx\": 120, \"sy\": 465, \"tx\": 160, \"ty\": 515, \"arrow\": true}, {\"id\": \"16_17\", \"sx\": 180, \"sy\": 140, \"tx\": 335, \"ty\": 212, \"arrow\": true}, {\"id\": \"22_7\", \"sx\": 180, \"sy\": 625, \"tx\": 160, \"ty\": 575}, {\"id\": \"22_7\", \"sx\": 160, \"sy\": 575, \"tx\": 160, \"ty\": 515, \"arrow\": true}, {\"id\": \"8_7\", \"sx\": 240, \"sy\": 465, \"tx\": 160, \"ty\": 515, \"arrow\": true}, {\"id\": \"3_7\", \"sx\": 150, \"sy\": 732, \"tx\": 120, \"ty\": 625}, {\"id\": \"3_7\", \"sx\": 120, \"sy\": 625, \"tx\": 120, \"ty\": 575}, {\"id\": \"3_7\", \"sx\": 120, \"sy\": 575, \"tx\": 160, \"ty\": 515, \"arrow\": true}, {\"id\": \"21_22\", \"sx\": 240, \"sy\": 855, \"tx\": 240, \"ty\": 782}, {\"id\": \"21_22\", \"sx\": 240, \"sy\": 782, \"tx\": 240, \"ty\": 732}, {\"id\": \"21_22\", \"sx\": 240, \"sy\": 732, \"tx\": 180, \"ty\": 625, \"arrow\": true}, {\"id\": \"7_16\", \"sx\": 160, \"sy\": 515, \"tx\": 160, \"ty\": 465}, {\"id\": \"7_16\", \"sx\": 160, \"sy\": 465, \"tx\": 160, \"ty\": 212}, {\"id\": \"7_16\", \"sx\": 160, \"sy\": 212, \"tx\": 180, \"ty\": 140, \"arrow\": true}, {\"id\": \"18_11\", \"sx\": 260, \"sy\": 312, \"tx\": 220, \"ty\": 362, \"arrow\": true}, {\"id\": \"20_15\", \"sx\": 280, \"sy\": 625, \"tx\": 320, \"ty\": 575}, {\"id\": \"20_15\", \"sx\": 320, \"sy\": 575, \"tx\": 320, \"ty\": 312}, {\"id\": \"20_15\", \"sx\": 320, \"sy\": 312, \"tx\": 290, \"ty\": 262, \"arrow\": true}, {\"id\": \"16_0\", \"sx\": 180, \"sy\": 140, \"tx\": 180, \"ty\": 90}, {\"id\": \"16_0\", \"sx\": 180, \"sy\": 90, \"tx\": 250, \"ty\": 40, \"arrow\": true}]\n",
       "\n",
       "    //add encompassing group for the zoom\n",
       "    var g = svg.append(\"g\").attr(\"class\", \"everything\");\n",
       "\n",
       "    var links = g.append(\"g\")\n",
       "        .attr(\"class\", \"link\")\n",
       "        .selectAll(\"line\")\n",
       "        .data(links_data)\n",
       "        .enter()\n",
       "        .append(\"line\")\n",
       "        .attr(\"marker-end\", function (d) {\n",
       "            if (d.arrow) {\n",
       "                return \"url(#end)\";\n",
       "            } else {\n",
       "                return null;\n",
       "            }\n",
       "        })\n",
       "        .attr(\"x1\", function (d) {\n",
       "            return d.sx\n",
       "        })\n",
       "        .attr(\"y1\", function (d) {\n",
       "            return d.sy\n",
       "        })\n",
       "        .attr(\"x2\", function (d) {\n",
       "            return d.tx\n",
       "        })\n",
       "        .attr(\"y2\", function (d) {\n",
       "            return d.ty\n",
       "        })\n",
       "        .attr(\"fill\", \"none\")\n",
       "        .attr(\"stroke\", \"green\")\n",
       "        .on(\"click\", function (d) {\n",
       "            console.log(\"on click \" + d.id);\n",
       "        });\n",
       "\n",
       "    var nodes = g.append(\"g\")\n",
       "        .attr(\"class\", \"node\")\n",
       "        .selectAll(\"circle\")\n",
       "        .data(nodes_data)\n",
       "        .enter()\n",
       "        .append(\"circle\")\n",
       "        .attr(\"cx\", function (d) {\n",
       "            return d.x\n",
       "        })\n",
       "        .attr(\"cy\", function (d) {\n",
       "            return d.y\n",
       "        })\n",
       "        .attr(\"r\", radius)\n",
       "        .attr(\"fill\", \"green\")\n",
       "        .on(\"click\", function (d) {\n",
       "            console.log(\"on click \" + d.name);\n",
       "        });\n",
       "\n",
       "    var text = g.append(\"g\")\n",
       "        .attr(\"class\", \"texts\")\n",
       "        .selectAll(\"text\")\n",
       "        .data(nodes_data)\n",
       "        .enter()\n",
       "        .append(\"text\")\n",
       "        .attr(\"text-anchor\", \"middle\")\n",
       "        .attr(\"dominant-baseline\", \"central\")\n",
       "        .attr(\"fill\", \"white\")\n",
       "        .text(function (d) {\n",
       "            return d.name;\n",
       "        })\n",
       "        .attr(\"transform\", function (d) { //<-- use transform it's not a g\n",
       "            return \"translate(\" + d.x + \",\" + d.y + \")\";\n",
       "        })\n",
       "        .on(\"click\", function (d) {\n",
       "            console.log(\"on click \" + d.name);\n",
       "        });\n",
       "\n",
       "\n",
       "    //add zoom capabilities\n",
       "    var zoom_handler = d3.zoom().on(\"zoom\", zoom_actions);\n",
       "\n",
       "    zoom_handler(svg);\n",
       "\n",
       "    function zoom_actions() {\n",
       "        g.attr(\"transform\", d3.event.transform)\n",
       "    }\n",
       "\n",
       "</script>\n"
      ],
      "text/plain": [
       "<cppyy.gbl.ogdf.GraphAttributes object at 0x55f811918330>"
      ]
     },
     "execution_count": 7,
     "metadata": {},
     "output_type": "execute_result"
    }
   ],
   "source": [
    "%env OGDF_BUILD_DIR=~/Bachelorarbeit/OGDF/build-debug\n",
    "\n",
    "from ogdf_python_widget import ogdf, cppinclude\n",
    "cppinclude(\"ogdf/basic/graph_generators/randomized.h\")\n",
    "cppinclude(\"ogdf/layered/SugiyamaLayout.h\")\n",
    "\n",
    "G = ogdf.Graph()\n",
    "ogdf.setSeed(1)\n",
    "ogdf.randomPlanarTriconnectedGraph(G, 20, 40)\n",
    "GA = ogdf.GraphAttributes(G, ogdf.GraphAttributes.all)\n",
    "\n",
    "for n in G.nodes:\n",
    "    GA.label[n] = \"N%s\" % n.index()\n",
    "\n",
    "SL = ogdf.SugiyamaLayout()\n",
    "SL.call(GA)\n",
    "GA"
   ]
  },
  {
   "cell_type": "code",
   "execution_count": null,
   "id": "9d5fdea9",
   "metadata": {
    "scrolled": false
   },
   "outputs": [],
   "source": []
  },
  {
   "cell_type": "code",
   "execution_count": null,
   "id": "25e02548",
   "metadata": {},
   "outputs": [],
   "source": []
  },
  {
   "cell_type": "code",
   "execution_count": null,
   "id": "086025fa",
   "metadata": {},
   "outputs": [],
   "source": []
  }
 ],
 "metadata": {
  "kernelspec": {
   "display_name": "Python 3 (ipykernel)",
   "language": "python",
   "name": "python3"
  },
  "language_info": {
   "codemirror_mode": {
    "name": "ipython",
    "version": 3
   },
   "file_extension": ".py",
   "mimetype": "text/x-python",
   "name": "python",
   "nbconvert_exporter": "python",
   "pygments_lexer": "ipython3",
   "version": "3.9.6"
  }
 },
 "nbformat": 4,
 "nbformat_minor": 5
}
