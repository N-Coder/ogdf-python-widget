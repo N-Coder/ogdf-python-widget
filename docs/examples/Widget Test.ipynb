{
 "cells": [
  {
   "cell_type": "code",
   "execution_count": null,
   "id": "9fa908de",
   "metadata": {
    "scrolled": false
   },
   "outputs": [],
   "source": [
    "%env OGDF_BUILD_DIR=~/Bachelorarbeit/OGDF/build-debug\n",
    "\n",
    "from ogdf_python_widget import ogdf, cppinclude\n",
    "from ogdf_python_widget.widget import GraphWidget\n",
    "import ogdf_python_widget\n",
    "\n",
    "cppinclude(\"ogdf/basic/graph_generators/randomized.h\")\n",
    "cppinclude(\"ogdf/layered/SugiyamaLayout.h\")\n",
    "\n",
    "G = ogdf.Graph()\n",
    "ogdf.setSeed(4)\n",
    "ogdf.randomPlanarTriconnectedGraph(G, 20, 40)\n",
    "GA = ogdf.GraphAttributes(G, ogdf.GraphAttributes.all)\n",
    "\n",
    "for n in G.nodes:\n",
    "    GA.label[n] = \"N%s\" % n.index()\n",
    "\n",
    "SL = ogdf.SugiyamaLayout()\n",
    "SL.call(GA)\n",
    "\n",
    "\n",
    "w = GraphWidget(GA)"
   ]
  },
  {
   "cell_type": "code",
   "execution_count": null,
   "id": "00b42d4f",
   "metadata": {},
   "outputs": [],
   "source": [
    "w.drawing_pad"
   ]
  },
  {
   "cell_type": "code",
   "execution_count": null,
   "id": "33fd8194",
   "metadata": {},
   "outputs": [],
   "source": [
    "w"
   ]
  }
 ],
 "metadata": {
  "kernelspec": {
   "display_name": "Python 3 (ipykernel)",
   "language": "python",
   "name": "python3"
  },
  "language_info": {
   "codemirror_mode": {
    "name": "ipython",
    "version": 3
   },
   "file_extension": ".py",
   "mimetype": "text/x-python",
   "name": "python",
   "nbconvert_exporter": "python",
   "pygments_lexer": "ipython3",
   "version": "3.9.6"
  }
 },
 "nbformat": 4,
 "nbformat_minor": 5
}
